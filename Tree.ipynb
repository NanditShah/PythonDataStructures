{
 "cells": [
  {
   "cell_type": "code",
   "execution_count": 54,
   "metadata": {},
   "outputs": [],
   "source": [
    "class TreeNode:\n",
    "    def __init__(self,data):\n",
    "        self.data = data\n",
    "        self.parent = None\n",
    "        self.children = []\n",
    "    \n",
    "    def add_child(self,child):\n",
    "        child.parent = self\n",
    "        self.children.append(child)\n",
    "    \n",
    "    def get_level(self):\n",
    "        level = 0\n",
    "        p=self.parent\n",
    "        while p:\n",
    "            p=p.parent\n",
    "            level+=1\n",
    "        return level\n",
    "    \n",
    "    def print_tree(self):\n",
    "        spaces = \" \" * self.get_level() * 3\n",
    "        prefix = spaces+\"|---\" if self.parent else ''\n",
    "        print(prefix+self.data)\n",
    "        if self.children:\n",
    "            for child in self.children:\n",
    "                child.print_tree()\n",
    "    "
   ]
  },
  {
   "cell_type": "code",
   "execution_count": 55,
   "metadata": {},
   "outputs": [],
   "source": [
    "def electronincs_tree():\n",
    "    root = TreeNode('Electronics')\n",
    "    \n",
    "    laptops = TreeNode('Laptops')\n",
    "    laptops.add_child(TreeNode('HP'))\n",
    "    laptops.add_child(TreeNode('Mac'))\n",
    "    laptops.add_child(TreeNode('Dell'))\n",
    "    \n",
    "    \n",
    "    mobiles = TreeNode('Mobiles')\n",
    "    mobiles.add_child(TreeNode('Motorola'))    \n",
    "    mobiles.add_child(TreeNode('Apple'))\n",
    "    mobiles.add_child(TreeNode('Nokia'))\n",
    "    \n",
    "    \n",
    "    tvs = TreeNode('TVs')\n",
    "    tvs.add_child(TreeNode('Reconnect'))    \n",
    "    tvs.add_child(TreeNode('LG'))\n",
    "    tvs.add_child(TreeNode('Samsung'))\n",
    "    \n",
    "    root.add_child(laptops)\n",
    "    root.add_child(mobiles)    \n",
    "    root.add_child(tvs)\n",
    "    \n",
    "    return root"
   ]
  },
  {
   "cell_type": "code",
   "execution_count": 56,
   "metadata": {},
   "outputs": [
    {
     "name": "stdout",
     "output_type": "stream",
     "text": [
      "Electronics\n",
      "   |---Laptops\n",
      "      |---HP\n",
      "      |---Mac\n",
      "      |---Dell\n",
      "   |---Mobiles\n",
      "      |---Motorola\n",
      "      |---Apple\n",
      "      |---Nokia\n",
      "   |---TVs\n",
      "      |---Reconnect\n",
      "      |---LG\n",
      "      |---Samsung\n"
     ]
    }
   ],
   "source": [
    "root = electronincs_tree()\n",
    "\n",
    "root.print_tree()"
   ]
  },
  {
   "cell_type": "code",
   "execution_count": null,
   "metadata": {},
   "outputs": [],
   "source": []
  }
 ],
 "metadata": {
  "kernelspec": {
   "display_name": "Python 3",
   "language": "python",
   "name": "python3"
  },
  "language_info": {
   "codemirror_mode": {
    "name": "ipython",
    "version": 3
   },
   "file_extension": ".py",
   "mimetype": "text/x-python",
   "name": "python",
   "nbconvert_exporter": "python",
   "pygments_lexer": "ipython3",
   "version": "3.7.6"
  }
 },
 "nbformat": 4,
 "nbformat_minor": 4
}
