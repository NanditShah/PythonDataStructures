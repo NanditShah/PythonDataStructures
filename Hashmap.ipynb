{
 "cells": [
  {
   "cell_type": "code",
   "execution_count": 47,
   "metadata": {},
   "outputs": [],
   "source": [
    "class Hashmap:\n",
    "    def __init__(self):\n",
    "        self.MAX = 100\n",
    "        self.arr = [[] for i in range(self.MAX)]\n",
    "        \n",
    "    def get_hash(self,key):\n",
    "        h = 0\n",
    "        for char in key:\n",
    "            h += ord(char)\n",
    "        return h % 100\n",
    "    def add(self,key,value):\n",
    "        h = self.get_hash(key)\n",
    "        found = False\n",
    "        \n",
    "        for index,element in enumerate(self.arr[h]):\n",
    "            if element[0] == key and len(element) == 2:\n",
    "                self.arr[h][index] = (key,value)\n",
    "                found = True\n",
    "                break\n",
    "        if not found:\n",
    "            self.arr[h].append((key,value))\n",
    "        \n",
    "    def __setitem__(self,key,value):\n",
    "        h = self.get_hash(key)\n",
    "        found = False\n",
    "        for index , element in enumerate(self.arr[h]):\n",
    "            if element[0] == key and len(element) == 2:\n",
    "                self.arr[h][index] == (key,value)\n",
    "                found = True\n",
    "                break\n",
    "        if not found :\n",
    "            self.arr[h].append((key,value))\n",
    "                \n",
    "                \n",
    "    def get(self,key):\n",
    "        h = self.get_hash(key)\n",
    "        for element in self.arr[h]:\n",
    "            if element[0] == key:\n",
    "                return element[1]\n",
    "            \n",
    "            \n",
    "    def __getitem__(self,key):\n",
    "        h = self.get_hash(key)\n",
    "        for element in self.arr[h]:\n",
    "            if element[0] == key:\n",
    "                return element[1]\n",
    "    \n",
    "    def __delitem__(self,key):\n",
    "        h = self.get_hash(key)\n",
    "        for index,element in enumerate(self.arr[h]):\n",
    "            if element[0] == key:\n",
    "                self.arr[h][index] = \n",
    "            \n",
    "    def print_hm(self):\n",
    "        values = [i for i in self.arr if i != []]\n",
    "        return values"
   ]
  },
  {
   "cell_type": "code",
   "execution_count": 51,
   "metadata": {},
   "outputs": [
    {
     "name": "stdout",
     "output_type": "stream",
     "text": [
      "110\n",
      "108\n",
      "4545\n"
     ]
    },
    {
     "data": {
      "text/plain": [
       "[[('march 9', 110)], [('dec 17', 78)], [('march 21', 4545), ('march 12', 108)]]"
      ]
     },
     "execution_count": 51,
     "metadata": {},
     "output_type": "execute_result"
    }
   ],
   "source": [
    "hm = Hashmap()\n",
    "hm.add('march 9',110)\n",
    "hm.add('dec 17',78)\n",
    "hm.add('march 21',4545)\n",
    "\n",
    "hm['march 12'] = 108\n",
    "print(hm.get('march 9'))\n",
    "print(hm['march 12'])\n",
    "print(hm['march 21'])\n",
    "\n",
    "hm.print_hm()"
   ]
  },
  {
   "cell_type": "code",
   "execution_count": null,
   "metadata": {},
   "outputs": [],
   "source": []
  },
  {
   "cell_type": "code",
   "execution_count": null,
   "metadata": {},
   "outputs": [],
   "source": []
  }
 ],
 "metadata": {
  "kernelspec": {
   "display_name": "Python 3",
   "language": "python",
   "name": "python3"
  },
  "language_info": {
   "codemirror_mode": {
    "name": "ipython",
    "version": 3
   },
   "file_extension": ".py",
   "mimetype": "text/x-python",
   "name": "python",
   "nbconvert_exporter": "python",
   "pygments_lexer": "ipython3",
   "version": "3.7.6"
  }
 },
 "nbformat": 4,
 "nbformat_minor": 4
}
