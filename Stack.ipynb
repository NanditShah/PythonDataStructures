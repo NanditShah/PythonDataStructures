{
 "cells": [
  {
   "cell_type": "markdown",
   "metadata": {},
   "source": [
    "# Stack Using LIST"
   ]
  },
  {
   "cell_type": "code",
   "execution_count": 1,
   "metadata": {},
   "outputs": [],
   "source": [
    "class Stack:\n",
    "    def __init__(self):\n",
    "        self.stack = []\n",
    "        \n",
    "    def pop(self):\n",
    "        if self.is_empty():\n",
    "            return\n",
    "        \n",
    "        return self.stack.pop()\n",
    "  \n",
    "    def push(self,data):\n",
    "        self.stack.append(data)\n",
    "    \n",
    "    def is_empty(self):\n",
    "        if len(self.stack) == 0:\n",
    "            return True\n",
    "        return False\n",
    "    \n",
    "    def get_peek(self):\n",
    "        return self.stack[-1]\n",
    "    \n",
    "    def print_stack(self):\n",
    "        print_str = ''\n",
    "        if self.is_empty() is False:\n",
    "            for element in self.stack:\n",
    "                    print_str += str(element) + '---'\n",
    "            print(print_str)\n",
    "        else:\n",
    "            print('Stack is Empty')\n",
    "            \n"
   ]
  },
  {
   "cell_type": "code",
   "execution_count": 14,
   "metadata": {},
   "outputs": [
    {
     "name": "stdout",
     "output_type": "stream",
     "text": [
      "15\n",
      "===>===>===>===>===>===>\n",
      "False\n"
     ]
    }
   ],
   "source": [
    "s_l_v = Stack()\n",
    "\n",
    "s_l_v.push(5)\n",
    "s_l_v.push(10)\n",
    "s_l_v.push(15)\n",
    "s_l_v.push(15)\n",
    "s_l_v.push(15)\n",
    "s_l_v.push(15)\n",
    "s_l_v.push(15)\n",
    "\n",
    "\n",
    "s_l_v.pop()\n",
    "\n",
    "print(s_l_v.get_peek())\n",
    "\n",
    "s_l_v.print_stack()\n",
    "\n",
    "print(s_l_v.is_empty())"
   ]
  },
  {
   "cell_type": "markdown",
   "metadata": {},
   "source": [
    "# Stack using Collections Module"
   ]
  },
  {
   "cell_type": "code",
   "execution_count": 2,
   "metadata": {},
   "outputs": [],
   "source": [
    "import collections\n",
    "\n",
    "class Stack:\n",
    "    \n",
    "    def __init__(self):\n",
    "        self.stack = collections.deque()\n",
    "    \n",
    "    def push(self,data):\n",
    "        self.stack.append(data)\n",
    "        \n",
    "    def pop(self):\n",
    "        if self.is_empty():\n",
    "            return\n",
    "        return self.stack.pop()\n",
    "        \n",
    "    def is_empty(self):\n",
    "        if len(self.stack) == 0 :\n",
    "            return True\n",
    "        else:\n",
    "            return False\n",
    "    def get_peek(self):\n",
    "        return self.stack[-1]\n",
    "        \n",
    "    def print_stack(self):\n",
    "        print_str = ''\n",
    "        if self.is_empty() is False:\n",
    "            for element in self.stack:\n",
    "                print_str += str(element)+'---'\n",
    "            print(print_str)\n",
    "        else:\n",
    "            print('List is Empty')"
   ]
  },
  {
   "cell_type": "code",
   "execution_count": 28,
   "metadata": {},
   "outputs": [
    {
     "name": "stdout",
     "output_type": "stream",
     "text": [
      "15\n",
      "5---10---15---15---15---15---\n",
      "False\n"
     ]
    }
   ],
   "source": [
    "s_d_v = Stack()\n",
    "\n",
    "s_d_v.push(5)\n",
    "s_d_v.push(10)\n",
    "s_d_v.push(15)\n",
    "s_d_v.push(15)\n",
    "s_d_v.push(15)\n",
    "s_d_v.push(15)\n",
    "s_d_v.push(15)\n",
    "\n",
    "\n",
    "s_d_v.pop()\n",
    "\n",
    "print(s_d_v.get_peek())\n",
    "\n",
    "s_d_v.print_stack()\n",
    "\n",
    "print(s_d_v.is_empty())"
   ]
  },
  {
   "cell_type": "code",
   "execution_count": null,
   "metadata": {},
   "outputs": [],
   "source": []
  }
 ],
 "metadata": {
  "kernelspec": {
   "display_name": "Python 3",
   "language": "python",
   "name": "python3"
  },
  "language_info": {
   "codemirror_mode": {
    "name": "ipython",
    "version": 3
   },
   "file_extension": ".py",
   "mimetype": "text/x-python",
   "name": "python",
   "nbconvert_exporter": "python",
   "pygments_lexer": "ipython3",
   "version": "3.7.6"
  }
 },
 "nbformat": 4,
 "nbformat_minor": 4
}
