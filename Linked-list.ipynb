{
 "cells": [
  {
   "cell_type": "code",
   "execution_count": 2,
   "metadata": {},
   "outputs": [],
   "source": [
    "# Class For Single Node Which Stores Data and the next Node\n",
    "class Node:\n",
    "    def __init__(self ,data=None, next=None):\n",
    "        self.data = data\n",
    "        self.next = next"
   ]
  },
  {
   "cell_type": "code",
   "execution_count": 84,
   "metadata": {},
   "outputs": [],
   "source": [
    "# Class That Implements LL\n",
    "\n",
    "class LinkedList:\n",
    "    def __init__(self):\n",
    "        self.head=None\n",
    "        \n",
    "        \n",
    "        \n",
    "#   Printing Whole LL\n",
    "    def print_ll(self):\n",
    "        if self.head is None:\n",
    "            print('Linked list is empty')\n",
    "            return\n",
    "        temp = self.head\n",
    "        ll_str = ''\n",
    "        while temp:\n",
    "            ll_str += str(temp.data)+' --> ' if temp.next else str(temp.data)\n",
    "            temp=temp.next\n",
    "        print(ll_str)\n",
    "        \n",
    "        \n",
    "        \n",
    "#   For Getting Length of LL\n",
    "    def get_length(self):\n",
    "        if self.head is None:\n",
    "            print(\"The Length is 0\")\n",
    "            return 0\n",
    "        temp=self.head\n",
    "        count = 0\n",
    "        while temp:\n",
    "            temp=temp.next\n",
    "            count += 1\n",
    "        return count\n",
    "  \n",
    "\n",
    "\n",
    "#   For Inserting Values At the begining of the LL\n",
    "    def insert_at_begining(self,data):\n",
    "        node = Node(data,self.head)\n",
    "        self.head = node\n",
    "        \n",
    "        \n",
    "        \n",
    "#   For Inserting Values at the end of LL    \n",
    "    def insert_at_end(self,data):\n",
    "        if self.head is None:\n",
    "            self.insert_at_begining(data)\n",
    "            return\n",
    "        temp = self.head\n",
    "        \n",
    "        while temp.next:\n",
    "            temp=temp.next\n",
    "        temp.next = Node(data,None)\n",
    "        \n",
    "        \n",
    "                \n",
    "#   For Inserting Value at given Index(starting from 0)\n",
    "    def insert_at(self,index,data):\n",
    "        if index<0  or index > self.get_length():\n",
    "            raise Exception(\"Invalid Index\")\n",
    "        \n",
    "        if self.head is None or index == 0:\n",
    "            self.insert_at_begining(data)\n",
    "            return\n",
    "        temp = self.head\n",
    "        count = 0\n",
    "        while temp:\n",
    "            \n",
    "            if count == index - 1:\n",
    "                nxt_node = temp.next\n",
    "                temp.next = Node(data,nxt_node)\n",
    "                break\n",
    "            temp=temp.next\n",
    "            count += 1\n",
    "\n",
    "            \n",
    "            \n",
    "#   For Inserting list of Values to the End of LL\n",
    "    def insert_values(self,data_list):\n",
    "        \n",
    "        for data in data_list:\n",
    "            self.insert_at_end(data)\n",
    "        \n",
    "        \n",
    "        \n",
    "    \n",
    "#     For Removing Values at given indext(Starting from 0)\n",
    "    def remove_at(self,index):\n",
    "        if index<0  or index > self.get_length():\n",
    "            raise Exception(\"Invalid Index\")\n",
    "        \n",
    "        if index == 0:\n",
    "            self.head = self.head.next\n",
    "            return\n",
    "        temp = self.head\n",
    "        count = 0\n",
    "        while temp: \n",
    "            if count == index - 1:\n",
    "                temp.next = temp.next.next\n",
    "                break\n",
    "            temp = temp.next\n",
    "            count += 1        "
   ]
  },
  {
   "cell_type": "code",
   "execution_count": 87,
   "metadata": {},
   "outputs": [
    {
     "name": "stdout",
     "output_type": "stream",
     "text": [
      "10 --> 10 --> 5 --> 12 --> 0 --> -5 --> -10\n",
      "10 --> 10 --> 5 --> 0 --> -5 --> -10\n",
      "10 --> 10 --> 5 --> 0 --> -5 --> -10 --> 1 --> 2 --> 3 --> 4 --> 5\n",
      "The length is 11\n"
     ]
    }
   ],
   "source": [
    "ll = LinkedList()\n",
    "ll.insert_at_begining(5)\n",
    "ll.insert_at_begining(10)\n",
    "ll.insert_at_end(0)\n",
    "ll.insert_at_end(-5)\n",
    "ll.insert_at_end(-10)\n",
    "ll.insert_at(0,10)\n",
    "ll.insert_at(3,12)\n",
    "ll.print_ll()\n",
    "\n",
    "ll.remove_at(3)\n",
    "ll.print_ll()\n",
    "\n",
    "ll.insert_values([1,2,3,4,5])\n",
    "ll.print_ll()\n",
    "\n",
    "print(f'The length is {ll.get_length()}')"
   ]
  },
  {
   "cell_type": "code",
   "execution_count": 88,
   "metadata": {},
   "outputs": [
    {
     "name": "stdout",
     "output_type": "stream",
     "text": [
      "Shah --> Nandit --> Suhagkumar\n",
      "Shah --> Shail --> Suhagkumar\n"
     ]
    }
   ],
   "source": [
    "ll2 = LinkedList()\n",
    "\n",
    "ll2.insert_at_begining(\"Nandit\")\n",
    "ll2.insert_at_begining(\"Shah\")\n",
    "ll2.insert_at_end('Suhagkumar')\n",
    "ll2.print_ll()\n",
    "\n",
    "ll2.remove_at(1)\n",
    "ll2.insert_at(1,'Shail')\n",
    "\n",
    "ll2.print_ll()"
   ]
  },
  {
   "cell_type": "markdown",
   "metadata": {},
   "source": [
    "# Doubly Linked List"
   ]
  },
  {
   "cell_type": "code",
   "execution_count": 89,
   "metadata": {},
   "outputs": [],
   "source": [
    "class D_Node:\n",
    "    def __init__(self,data,prev,next):\n",
    "        self.data = data\n",
    "        self.prev = prev\n",
    "        self.next = next"
   ]
  },
  {
   "cell_type": "code",
   "execution_count": 132,
   "metadata": {},
   "outputs": [],
   "source": [
    "class D_LinkedList:\n",
    "    \n",
    "    \n",
    "    def __init__(self):\n",
    "        self.head = None\n",
    "        \n",
    "    def insert_at_begining(self,data):\n",
    "        node = D_Node(data,None,self.head)\n",
    "        self.head = node\n",
    "        \n",
    "    def insert_at_end(self,data):\n",
    "        if self.head is None:\n",
    "            self.insert_at_begining(data)\n",
    "            return\n",
    "        temp = self.head\n",
    "        \n",
    "        while temp.next:\n",
    "            temp = temp.next\n",
    "        temp.next =D_Node(data,temp,None)\n",
    "    \n",
    "    \n",
    "    def insert_at(self,index,data):\n",
    "        if self.head is None or index == 0 :\n",
    "            self.insert_at_begining(data)\n",
    "            return\n",
    "        temp = self.head\n",
    "        count = 0\n",
    "        while temp:\n",
    "            if count == index - 1:\n",
    "                nxt_node = temp.next\n",
    "                temp.next = D_Node(data,temp.next,nxt_node)\n",
    "                nxt_node.prev = temp.next\n",
    "                \n",
    "            temp = temp.next\n",
    "            count += 1\n",
    "        \n",
    "    \n",
    "    \n",
    "    def remove_at(self,index):\n",
    "        if index < 0 or index > self.get_length():\n",
    "            raise Exception(\"Invalid Index\")\n",
    "            return\n",
    "        if index == 0:\n",
    "            self.head = self.head.next\n",
    "            self.head.prev = None\n",
    "            \n",
    "        temp = self.head\n",
    "        count = 0\n",
    "        \n",
    "        while temp:\n",
    "            if count == index - 1:\n",
    "                del_node = temp.next\n",
    "                temp.next = del_node.next\n",
    "                temp.next.prev = temp\n",
    "            temp = temp.next\n",
    "            count += 1\n",
    "    \n",
    "    def insert_values(self,data_list):\n",
    "        for data in data_list:\n",
    "            self.insert_at_end(data)\n",
    "            \n",
    "    def get_length(self):\n",
    "        if self.head is None:\n",
    "            return 0\n",
    "        temp = self.head\n",
    "        count = 0\n",
    "        while temp:\n",
    "            temp = temp.next\n",
    "            count += 1\n",
    "        return count\n",
    "    \n",
    "    def print_dll(self):\n",
    "        \n",
    "        if self.head is None:\n",
    "            print('Linked list is Empty')\n",
    "            return \n",
    "        temp = self.head\n",
    "        dll_str = ''\n",
    "        while temp:\n",
    "            dll_str += str(temp.data) + ' --> ' if temp.next else str(temp.data)\n",
    "            temp = temp.next\n",
    "        print(dll_str)\n",
    "        \n",
    "        \n",
    "    "
   ]
  },
  {
   "cell_type": "code",
   "execution_count": 138,
   "metadata": {},
   "outputs": [
    {
     "name": "stdout",
     "output_type": "stream",
     "text": [
      "0 --> 5 --> 10 --> 25 --> 15 --> 20 --> 25\n"
     ]
    },
    {
     "data": {
      "text/plain": [
       "7"
      ]
     },
     "execution_count": 138,
     "metadata": {},
     "output_type": "execute_result"
    }
   ],
   "source": [
    "dll = D_LinkedList()\n",
    "\n",
    "dll.insert_at_begining(10)\n",
    "dll.insert_at_begining(5)\n",
    "dll.insert_at_end(20)\n",
    "dll.insert_at_end(25)\n",
    "dll.insert_at(2,15)\n",
    "dll.insert_at(0,0)\n",
    "dll.insert_at(3,25)\n",
    "dll.print_dll()\n",
    "dll.get_length()"
   ]
  },
  {
   "cell_type": "code",
   "execution_count": 139,
   "metadata": {},
   "outputs": [
    {
     "name": "stdout",
     "output_type": "stream",
     "text": [
      "0 --> 5 --> 10 --> 15 --> 20 --> 25\n"
     ]
    }
   ],
   "source": [
    "dll.remove_at(3)\n",
    "dll.print_dll()\n"
   ]
  },
  {
   "cell_type": "code",
   "execution_count": 140,
   "metadata": {},
   "outputs": [
    {
     "name": "stdout",
     "output_type": "stream",
     "text": [
      "0 --> 5 --> 10 --> 20 --> 25\n"
     ]
    }
   ],
   "source": [
    "dll.remove_at(3)\n",
    "dll.print_dll()"
   ]
  },
  {
   "cell_type": "code",
   "execution_count": 141,
   "metadata": {},
   "outputs": [
    {
     "name": "stdout",
     "output_type": "stream",
     "text": [
      "0 --> 5 --> 10 --> 15 --> 20 --> 25\n"
     ]
    }
   ],
   "source": [
    "dll.insert_at(3,15)\n",
    "dll.print_dll()"
   ]
  },
  {
   "cell_type": "code",
   "execution_count": 142,
   "metadata": {},
   "outputs": [
    {
     "name": "stdout",
     "output_type": "stream",
     "text": [
      "0 --> 5 --> 10 --> 15 --> 20 --> 25 --> 30 --> 35 --> 40 --> 45 --> 50\n"
     ]
    }
   ],
   "source": [
    "dll.insert_values([30,35,40,45,50])\n",
    "dll.print_dll()"
   ]
  },
  {
   "cell_type": "code",
   "execution_count": 144,
   "metadata": {},
   "outputs": [
    {
     "name": "stdout",
     "output_type": "stream",
     "text": [
      "1 --> 2 --> 3 --> 4 --> 5 --> 6 --> 7 --> 8 --> 9 --> 10\n"
     ]
    }
   ],
   "source": [
    "dll2 = D_LinkedList()\n",
    "dll2.insert_values([1,2,3,4,5,6,7,8,9,10])\n",
    "dll2.print_dll()"
   ]
  },
  {
   "cell_type": "code",
   "execution_count": null,
   "metadata": {},
   "outputs": [],
   "source": []
  }
 ],
 "metadata": {
  "kernelspec": {
   "display_name": "Python 3",
   "language": "python",
   "name": "python3"
  },
  "language_info": {
   "codemirror_mode": {
    "name": "ipython",
    "version": 3
   },
   "file_extension": ".py",
   "mimetype": "text/x-python",
   "name": "python",
   "nbconvert_exporter": "python",
   "pygments_lexer": "ipython3",
   "version": "3.7.6"
  }
 },
 "nbformat": 4,
 "nbformat_minor": 4
}
