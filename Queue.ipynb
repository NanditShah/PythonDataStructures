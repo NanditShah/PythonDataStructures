{
 "cells": [
  {
   "cell_type": "markdown",
   "metadata": {},
   "source": [
    "# Using List "
   ]
  },
  {
   "cell_type": "code",
   "execution_count": 25,
   "metadata": {},
   "outputs": [],
   "source": [
    "class Queue:\n",
    "    def __init__(self):\n",
    "        self.queue = []\n",
    "        \n",
    "    def push(self,data):\n",
    "        self.queue.insert(0,data)\n",
    "    \n",
    "    def pop(self):\n",
    "        return self.queue.pop()\n",
    "    \n",
    "    def print_queue(self):\n",
    "        print_str = ''\n",
    "        for element in self.queue:\n",
    "            print_str = print_str + str(element) +\"<---\"\n",
    "        print(print_str)"
   ]
  },
  {
   "cell_type": "code",
   "execution_count": 26,
   "metadata": {},
   "outputs": [],
   "source": [
    "q = Queue()"
   ]
  },
  {
   "cell_type": "code",
   "execution_count": 27,
   "metadata": {},
   "outputs": [
    {
     "name": "stdout",
     "output_type": "stream",
     "text": [
      "35<---25<---15<---5<---\n"
     ]
    },
    {
     "data": {
      "text/plain": [
       "5"
      ]
     },
     "execution_count": 27,
     "metadata": {},
     "output_type": "execute_result"
    }
   ],
   "source": [
    "q.push(5)\n",
    "q.push(15)\n",
    "q.push(25)\n",
    "q.push(35)\n",
    "\n",
    "q.print_queue()\n",
    "\n",
    "q.pop()"
   ]
  },
  {
   "cell_type": "markdown",
   "metadata": {},
   "source": [
    "# Using Collection Module"
   ]
  },
  {
   "cell_type": "code",
   "execution_count": 7,
   "metadata": {},
   "outputs": [],
   "source": [
    "import collections\n",
    "\n",
    "class Queue():\n",
    "    def __init__(self):\n",
    "        self.queue = collections.deque()\n",
    "        \n",
    "    def enque(self,data):\n",
    "        self.queue.appendleft(data)\n",
    "    \n",
    "    def deque(self):\n",
    "        if self.is_empty():\n",
    "            return\n",
    "        return self.queue.pop()\n",
    "    \n",
    "    def is_empty(self):\n",
    "        if len(self.queue) == 0:\n",
    "            return True\n",
    "        return False\n",
    "    \n",
    "    def print_queue(self):\n",
    "        print_str = ''\n",
    "        if self.is_empty():\n",
    "            print('Queue is empty')\n",
    "            return\n",
    "        for element in self.queue:\n",
    "            print_str = print_str + str(element) +\"<---\"\n",
    "        print(print_str)"
   ]
  },
  {
   "cell_type": "code",
   "execution_count": 8,
   "metadata": {},
   "outputs": [
    {
     "name": "stdout",
     "output_type": "stream",
     "text": [
      "32<---22<---12<---2<---\n"
     ]
    },
    {
     "data": {
      "text/plain": [
       "2"
      ]
     },
     "execution_count": 8,
     "metadata": {},
     "output_type": "execute_result"
    }
   ],
   "source": [
    "q = Queue()\n",
    "q.enque(2)\n",
    "q.enque(12)\n",
    "q.enque(22)\n",
    "q.enque(32)\n",
    "\n",
    "q.print_queue()\n",
    "\n",
    "q.deque()"
   ]
  },
  {
   "cell_type": "code",
   "execution_count": null,
   "metadata": {},
   "outputs": [],
   "source": []
  }
 ],
 "metadata": {
  "kernelspec": {
   "display_name": "Python 3",
   "language": "python",
   "name": "python3"
  },
  "language_info": {
   "codemirror_mode": {
    "name": "ipython",
    "version": 3
   },
   "file_extension": ".py",
   "mimetype": "text/x-python",
   "name": "python",
   "nbconvert_exporter": "python",
   "pygments_lexer": "ipython3",
   "version": "3.7.6"
  }
 },
 "nbformat": 4,
 "nbformat_minor": 4
}
